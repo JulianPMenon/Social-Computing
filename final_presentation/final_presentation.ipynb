{
 "cells": [
  {
   "cell_type": "markdown",
   "id": "41ed0e67",
   "metadata": {},
   "source": [
    "# Green Sentiment\n",
    "\n",
    "by Lucas Kiesel and Julian Menon"
   ]
  },
  {
   "cell_type": "markdown",
   "id": "6bae397a",
   "metadata": {},
   "source": []
  },
  {
   "cell_type": "markdown",
   "id": "d1ead61e",
   "metadata": {},
   "source": [
    "First, let's load both datasets."
   ]
  },
  {
   "cell_type": "code",
   "execution_count": 39,
   "id": "8f1cf6fa",
   "metadata": {},
   "outputs": [
    {
     "name": "stdout",
     "output_type": "stream",
     "text": [
      "{'Aachen': 0.5947090960601052, 'Augsburg': -0.5296619608146883, 'Bergisch Gladbach': 1.8123714803527533, 'Berlin': -1.1223330322585292, 'Bielefeld': 0.5525436083055146, 'Bochum': -0.30913717509516053, 'Bonn': 0.4910463952985472, 'Bottrop': 0.35855684534885407, 'Braunschweig': -0.12437012246765707, 'Bremen': -0.4474641607095504, 'Bremerhaven': -1.1771319448881028, 'Chemnitz': 0.8588215526712263, 'Darmstadt': 0.7516131723861387, 'Dessau-Roßlau': 0.048548192111917375, 'Dortmund': -0.08381441602693888, 'Dresden': -0.34062871032845543, 'Duesseldorf': -1.101239806537364, 'Duisburg': -1.027002449774291, 'Erfurt': 0.2563066044654625, 'Erlangen': -1.2827043041608703, 'Essen': -0.2646368742243192, 'Frankfurt Am Main': -1.0360216418754462, 'Freiburg Im Breisgau': 1.0841033804169735, 'Gelsenkirchen': -0.6012978748672291, 'Goettingen': 1.3497651726356124, 'Guetersloh': 0.043066567616664955, 'Hagen': 1.5947023134437168, 'Halle': 2.5287887718295523, 'Hamburg': -0.3706615909256542, 'Hamm': -0.020616524611646054, 'Hannover': -0.9954099662915409, 'Heidelberg': 0.2983951988885178, 'Heilbronn': -0.6606897470138272, 'Herne': -0.8020303954652247, 'Hildesheim': 0.6311666432423902, 'Ingolstadt': -1.452783106295715, 'Jena': 1.5081844012658854, 'Kaiserslautern': 2.271224838260409, 'Karlsruhe': -0.31746731286743546, 'Kassel': 0.4444165056275854, 'Kiel': 0.25949277602242965, 'Koblenz': 0.4568333679708531, 'Koeln': -0.7113510140431242, 'Leipzig': -0.8800374553284263, 'Leverkusen': -0.7559756350241322, 'Ludwigshafen Am Rhein': -2.336500188349169, 'Luebeck': 0.6779895650524402, 'Magdeburg': -0.6796498930339384, 'Mainz': -1.1506686454713047, 'Mannheim': -1.7194333562409656, 'Moenchengladbach': -0.4777145638004703, 'Moers': -0.7348235764964632, 'Muenchen': -1.5619421368532713, 'Muenster': 0.40822116583921597, 'Neuss': -1.0420502312520754, 'Nuernberg': -1.6674241772761937, 'Oberhausen': -0.6441389436145991, 'Offenbach Am Main': -0.267343489512233, 'Oldenburg': -0.37219410785932755, 'Osnabrueck': 0.1054827662311673, 'Paderborn': -0.025072216027364702, 'Pforzheim': 1.5631555660143805, 'Potsdam': 0.5605502485146372, 'Recklinghausen': -0.24730452455451574, 'Regensburg': -1.452783106295715, 'Remscheid': 0.9912548304188722, 'Reutlingen': 0.39040332043595644, 'Rostock': -0.09242800684373301, 'Saarbruecken': 1.7430500148073464, 'Salzgitter': 0.9409992151780503, 'Siegen': 2.7741081103637324, 'Solingen': 0.7942742573434741, 'Stuttgart': -0.22523720369452813, 'Trier': 0.932936086364447, 'Ulm': 0.2974187600691262, 'Wiesbaden': 0.4326809076922233, 'Wilhelmshaven': -0.12709928664206352, 'Wolfsburg': 0.356928640695737, 'Wuerzburg': -0.5673455001843004, 'Wuppertal': 0.6415100366557197}\n",
      "{'Braunschweig': np.float64(0.23774616230749399), 'Leipzig': np.float64(-1.0630977853663455), 'Mainz': np.float64(0.6810735328044284), 'Munich': np.float64(-0.31030581231452925), 'Wolfsburg': np.float64(2.083600298309583), 'Aachen': np.float64(-1.2310214826439583), 'Kiel': np.float64(-0.7557719576545135), 'Koeln': np.float64(0.9944260517060958), 'Mannheim': np.float64(-0.5642595962712078), 'Stuttgart': np.float64(-0.9095248149927608), 'Trier': np.float64(1.1062943589444652), 'Wuppertal': np.float64(0.5196773464777196), 'Berlin': np.float64(-1.3126615435230293), 'Hamburg': np.float64(-1.0287964046144162), 'Hannover': np.float64(0.45237016879120956), 'Goettingen': np.float64(1.1002514780397663)}\n"
     ]
    }
   ],
   "source": [
    "import json\n",
    "import pandas as pd\n",
    "\n",
    "# green scores\n",
    "\n",
    "green_scores = {}\n",
    "with open('../green_scores/green_scores.json', 'r', encoding='utf-8') as file:\n",
    "    \n",
    "    \n",
    "    green_scores = json.load(file)\n",
    "\n",
    "# these are our green scores\n",
    "# see our \"step_by_step_explanation\" for more details\n",
    "print(green_scores)\n",
    "\n",
    "\n",
    "\n",
    "# happiness scores\n",
    "\n",
    "# this extracts the scores normalized by the amount of positive and negative posts+comments\n",
    "# however, we need to normalize these scores by their distribution as well to make them better match with the green scores\n",
    "extracted_scores = pd.read_csv('../happiness_scores/city_sentiment_scored.csv')[['city','sentiment_score']]\n",
    "\n",
    "# mean\n",
    "score_mean = extracted_scores['sentiment_score'].mean()\n",
    "\n",
    "# standard deviation\n",
    "deviation_sum = 0\n",
    "\n",
    "for _, city_entry in extracted_scores.iterrows():\n",
    "    deviation_sum += (city_entry['sentiment_score']-score_mean)**2\n",
    "        \n",
    "score_std_dev = (deviation_sum/len(extracted_scores['sentiment_score']))**(1/2)\n",
    "\n",
    "\n",
    "# normalization\n",
    "happiness_scores = {}\n",
    "for _, city_entry in extracted_scores.iterrows():\n",
    "    \n",
    "    happiness_scores[city_entry['city'].capitalize()] = (city_entry['sentiment_score']-score_mean)/score_std_dev\n",
    "\n",
    "print(happiness_scores)\n",
    "\n"
   ]
  },
  {
   "cell_type": "markdown",
   "id": "e9f1120a",
   "metadata": {},
   "source": [
    "Now that both datasets are loaded, lets merge them together."
   ]
  },
  {
   "cell_type": "code",
   "execution_count": null,
   "id": "b2aa2eb6",
   "metadata": {},
   "outputs": [
    {
     "name": "stdout",
     "output_type": "stream",
     "text": [
      "{'Braunschweig': (np.float64(0.23774616230749399), -0.12437012246765707), 'Leipzig': (np.float64(-1.0630977853663455), -0.8800374553284263), 'Mainz': (np.float64(0.6810735328044284), -1.1506686454713047), 'Wolfsburg': (np.float64(2.083600298309583), 0.356928640695737), 'Aachen': (np.float64(-1.2310214826439583), 0.5947090960601052), 'Kiel': (np.float64(-0.7557719576545135), 0.25949277602242965), 'Koeln': (np.float64(0.9944260517060958), -0.7113510140431242), 'Mannheim': (np.float64(-0.5642595962712078), -1.7194333562409656), 'Stuttgart': (np.float64(-0.9095248149927608), -0.22523720369452813), 'Trier': (np.float64(1.1062943589444652), 0.932936086364447), 'Wuppertal': (np.float64(0.5196773464777196), 0.6415100366557197), 'Berlin': (np.float64(-1.3126615435230293), -1.1223330322585292), 'Hamburg': (np.float64(-1.0287964046144162), -0.3706615909256542), 'Hannover': (np.float64(0.45237016879120956), -0.9954099662915409), 'Goettingen': (np.float64(1.1002514780397663), 1.3497651726356124), 'Muenchen': (np.float64(-0.31030581231452925), -1.5619421368532713)}\n"
     ]
    }
   ],
   "source": [
    "# this is a dirty fix: we used the englisch subreddit for Muenchen = Munich\n",
    "happiness_scores['Muenchen'] = happiness_scores['Munich']\n",
    "del happiness_scores['Munich']\n",
    "\n",
    "# store everything in a combined score map. The two scores are tuples (happiness_score, green_score)\n",
    "combined_score_map = {}\n",
    "for city_name in happiness_scores.keys():\n",
    "    \n",
    "    if(city_name in green_scores):\n",
    "        combined_score_map[city_name] = (happiness_scores[city_name], green_scores[city_name])\n",
    "        \n",
    "    else:\n",
    "        print(f\"Did not find city name {city_name} in green scores!\")\n",
    "        \n",
    "print(combined_score_map)"
   ]
  },
  {
   "cell_type": "markdown",
   "id": "6ff3dc4d",
   "metadata": {},
   "source": [
    "Finally, we visualize the results."
   ]
  },
  {
   "cell_type": "code",
   "execution_count": 48,
   "id": "f686bb64",
   "metadata": {},
   "outputs": [
    {
     "data": {
      "image/png": "[encoded data removed]",
      "text/plain": [
       "<Figure size 640x480 with 1 Axes>"
      ]
     },
     "metadata": {},
     "output_type": "display_data"
    }
   ],
   "source": [
    "import matplotlib.pyplot as plt\n",
    "\n",
    "# convert data to the correct format\n",
    "x_happiness_scores = []\n",
    "y_green_scores = []\n",
    "\n",
    "for city_name in combined_score_map.keys():\n",
    "    x_happiness_scores.append(combined_score_map[city_name][0])\n",
    "    y_green_scores.append(combined_score_map[city_name][1])\n",
    "\n",
    "# plot\n",
    "plt.scatter(x_happiness_scores, y_green_scores, label='Cities', color='green', marker='o')\n",
    "plt.xlabel('Happiness Scores')\n",
    "plt.ylabel('Green Scores')\n",
    "plt.title('Correlation Graph of City Happiness and Greenery')\n",
    "plt.legend()\n",
    "\n",
    "# Anzeigen des Graphens\n",
    "plt.show()"
   ]
  },
  {
   "cell_type": "code",
   "execution_count": null,
   "id": "f9b49eba",
   "metadata": {},
   "outputs": [],
   "source": []
  }
 ],
 "metadata": {
  "kernelspec": {
   "display_name": "Python 3",
   "language": "python",
   "name": "python3"
  },
  "language_info": {
   "codemirror_mode": {
    "name": "ipython",
    "version": 3
   },
   "file_extension": ".py",
   "mimetype": "text/x-python",
   "name": "python",
   "nbconvert_exporter": "python",
   "pygments_lexer": "ipython3",
   "version": "3.13.5"
  }
 },
 "nbformat": 4,
 "nbformat_minor": 5
}
