{
 "cells": [
  {
   "cell_type": "markdown",
   "id": "640b1f83",
   "metadata": {},
   "source": [
    "# City Sentiment Comparison\n",
    "\n",
    "This notebook loads a list of cities, runs the sentiment metrics script for each, aggregates the results, and plots a comparison of sentiment distributions across cities."
   ]
  },
  {
   "cell_type": "code",
   "execution_count": 26,
   "id": "79daf82f",
   "metadata": {},
   "outputs": [],
   "source": [
    "# Import Required Libraries\n",
    "import os\n",
    "import json\n",
    "import subprocess\n",
    "import pandas as pd\n",
    "import matplotlib.pyplot as plt"
   ]
  },
  {
   "cell_type": "code",
   "execution_count": 27,
   "id": "cf822187",
   "metadata": {},
   "outputs": [
    {
     "name": "stdout",
     "output_type": "stream",
     "text": [
      "Requirement already satisfied: pip in c:\\users\\jujuj\\team7\\yars\\.venv\\lib\\site-packages (25.1.1)\n",
      "Requirement already satisfied: torch in c:\\users\\jujuj\\team7\\yars\\.venv\\lib\\site-packages (2.7.1)\n",
      "Requirement already satisfied: filelock in c:\\users\\jujuj\\team7\\yars\\.venv\\lib\\site-packages (from torch) (3.18.0)\n",
      "Requirement already satisfied: typing-extensions>=4.10.0 in c:\\users\\jujuj\\team7\\yars\\.venv\\lib\\site-packages (from torch) (4.14.1)\n",
      "Requirement already satisfied: sympy>=1.13.3 in c:\\users\\jujuj\\team7\\yars\\.venv\\lib\\site-packages (from torch) (1.14.0)\n",
      "Requirement already satisfied: networkx in c:\\users\\jujuj\\team7\\yars\\.venv\\lib\\site-packages (from torch) (3.5)\n",
      "Requirement already satisfied: jinja2 in c:\\users\\jujuj\\team7\\yars\\.venv\\lib\\site-packages (from torch) (3.1.6)\n",
      "Requirement already satisfied: fsspec in c:\\users\\jujuj\\team7\\yars\\.venv\\lib\\site-packages (from torch) (2025.7.0)\n",
      "Requirement already satisfied: setuptools in c:\\users\\jujuj\\team7\\yars\\.venv\\lib\\site-packages (from torch) (80.9.0)\n",
      "Requirement already satisfied: mpmath<1.4,>=1.1.0 in c:\\users\\jujuj\\team7\\yars\\.venv\\lib\\site-packages (from sympy>=1.13.3->torch) (1.3.0)\n",
      "Requirement already satisfied: MarkupSafe>=2.0 in c:\\users\\jujuj\\team7\\yars\\.venv\\lib\\site-packages (from jinja2->torch) (3.0.2)\n",
      "Requirement already satisfied: torch in c:\\users\\jujuj\\team7\\yars\\.venv\\lib\\site-packages (2.7.1)\n",
      "Requirement already satisfied: filelock in c:\\users\\jujuj\\team7\\yars\\.venv\\lib\\site-packages (from torch) (3.18.0)\n",
      "Requirement already satisfied: typing-extensions>=4.10.0 in c:\\users\\jujuj\\team7\\yars\\.venv\\lib\\site-packages (from torch) (4.14.1)\n",
      "Requirement already satisfied: sympy>=1.13.3 in c:\\users\\jujuj\\team7\\yars\\.venv\\lib\\site-packages (from torch) (1.14.0)\n",
      "Requirement already satisfied: networkx in c:\\users\\jujuj\\team7\\yars\\.venv\\lib\\site-packages (from torch) (3.5)\n",
      "Requirement already satisfied: jinja2 in c:\\users\\jujuj\\team7\\yars\\.venv\\lib\\site-packages (from torch) (3.1.6)\n",
      "Requirement already satisfied: fsspec in c:\\users\\jujuj\\team7\\yars\\.venv\\lib\\site-packages (from torch) (2025.7.0)\n",
      "Requirement already satisfied: setuptools in c:\\users\\jujuj\\team7\\yars\\.venv\\lib\\site-packages (from torch) (80.9.0)\n",
      "Requirement already satisfied: mpmath<1.4,>=1.1.0 in c:\\users\\jujuj\\team7\\yars\\.venv\\lib\\site-packages (from sympy>=1.13.3->torch) (1.3.0)\n",
      "Requirement already satisfied: MarkupSafe>=2.0 in c:\\users\\jujuj\\team7\\yars\\.venv\\lib\\site-packages (from jinja2->torch) (3.0.2)\n"
     ]
    }
   ],
   "source": [
    "!python -m pip install --upgrade pip\n",
    "!python -m pip install torch"
   ]
  },
  {
   "cell_type": "code",
   "execution_count": 28,
   "id": "7fb095c4",
   "metadata": {},
   "outputs": [
    {
     "name": "stdout",
     "output_type": "stream",
     "text": [
      "Cities to process: ['Hannover', 'goettingen', 'Berlin', 'Hamburg']\n"
     ]
    }
   ],
   "source": [
    "# Load City List from File\n",
    "city_list_file = \"cities.txt\"  # One city name per line\n",
    "with open(city_list_file, \"r\", encoding=\"utf-8\") as f:\n",
    "    cities = [line.strip() for line in f if line.strip()]\n",
    "print(\"Cities to process:\", cities)"
   ]
  },
  {
   "cell_type": "code",
   "execution_count": 29,
   "id": "090014f5",
   "metadata": {},
   "outputs": [
    {
     "name": "stdout",
     "output_type": "stream",
     "text": [
      "Scraped data for Hannover already exists.\n",
      "Sentiment analysis for Hannover already exists.\n",
      "Scraped data for goettingen already exists.\n",
      "Sentiment analysis for goettingen already exists.\n",
      "Scraped data for Berlin already exists.\n",
      "Sentiment analysis for Berlin already exists.\n",
      "Scraped data for Hamburg already exists.\n",
      "Sentiment analysis for Hamburg already exists.\n"
     ]
    }
   ],
   "source": [
    "# For each city, if not already done, perform scraping and sentiment analysis using the scripts in example\n",
    "for city in cities:\n",
    "    text_file = f\"{city}_posts_text.json\"\n",
    "    sentiment_file = f\"{city}_posts_sentiment.json\"\n",
    "    # Scrape if not already done\n",
    "    if not os.path.exists(text_file):\n",
    "        print(f\"Scraping posts for {city}...\")\n",
    "        try:\n",
    "            subprocess.run(\n",
    "                [\"python\", \"example/scrape_it.py\"],\n",
    "                input=city.encode(),\n",
    "                check=True,\n",
    "                capture_output=True\n",
    "            )\n",
    "        except subprocess.CalledProcessError as e:\n",
    "            print(f\"Scraping failed for {city}: {e.stderr.decode()}\")\n",
    "            continue\n",
    "    else:\n",
    "        print(f\"Scraped data for {city} already exists.\")\n",
    "    # Sentiment analysis if not already done\n",
    "    if not os.path.exists(sentiment_file):\n",
    "        print(f\"Running sentiment analysis for {city}...\")\n",
    "        if not os.path.exists(text_file) or os.path.getsize(text_file) == 0:\n",
    "            print(f\"Skipping sentiment analysis for {city}: No scraped data.\")\n",
    "            continue\n",
    "        # Edit CITY_SUBREDDIT in sentiment_analysis.py before running\n",
    "        with open(\"example/sentiment_analysis.py\", \"r\", encoding=\"utf-8\") as f:\n",
    "            lines = f.readlines()\n",
    "        with open(\"example/sentiment_analysis.py\", \"w\", encoding=\"utf-8\") as f:\n",
    "            for line in lines:\n",
    "                if line.strip().startswith(\"CITY_SUBREDDIT =\"):\n",
    "                    f.write(f'CITY_SUBREDDIT = \"{city}\"\\n')\n",
    "                else:\n",
    "                    f.write(line)\n",
    "        try:\n",
    "            subprocess.run(\n",
    "                [\"python\", \"example/sentiment_analysis.py\"],\n",
    "                check=True,\n",
    "                capture_output=True\n",
    "            )\n",
    "        except subprocess.CalledProcessError as e:\n",
    "            print(f\"Sentiment analysis failed for {city}: {e.stderr.decode()}\")\n",
    "            continue\n",
    "    else:\n",
    "        print(f\"Sentiment analysis for {city} already exists.\")"
   ]
  },
  {
   "cell_type": "code",
   "execution_count": null,
   "id": "5a1498b0",
   "metadata": {},
   "outputs": [
    {
     "name": "stdout",
     "output_type": "stream",
     "text": [
      "Processing Hannover...\n",
      "Processing goettingen...\n",
      "Processing Berlin...\n",
      "Processing Hamburg...\n",
      "Done.\n"
     ]
    }
   ],
   "source": [
    "# Run Sentiment Metrics Script for Each City\n",
    "metrics_results = {}\n",
    "for city in cities:\n",
    "    print(f\"Processing {city}...\")\n",
    "    # Set environment variable for city (if needed by script)\n",
    "    env = os.environ.copy()\n",
    "    env[\"CITY_SUBREDDIT\"] = city\n",
    "    # Run the metrics script (assumes it reads CITY_SUBREDDIT or you can edit the script to do so)\n",
    "    metrics_file = f\"{city}_posts_sentiment.json\"\n",
    "    if not os.path.exists(metrics_file):\n",
    "        print(f\"Warning: Sentiment file for {city} not found, skipping.\")\n",
    "        continue\n",
    "    # Load metrics from file (simulate script output)\n",
    "    with open(metrics_file, \"r\", encoding=\"utf-8\") as f:\n",
    "        posts = json.load(f)\n",
    "    post_sentiments = [post.get(\"post_sentiment\", \"neutral\") for post in posts]\n",
    "    comment_sentiments = []\n",
    "    for post in posts:\n",
    "        for c in post.get(\"comments\", []):\n",
    "            comment_sentiments.append(c.get(\"sentiment\", \"neutral\"))\n",
    "    from collections import Counter\n",
    "    post_counts = Counter(post_sentiments)\n",
    "    comment_counts = Counter(comment_sentiments)\n",
    "    metrics_results[city] = {\n",
    "        \"post_counts\": post_counts,\n",
    "        \"comment_counts\": comment_counts,\n",
    "        \"total_posts\": len(posts),\n",
    "        \"total_comments\": len(comment_sentiments)\n",
    "    }\n",
    "print(\"Done.\")"
   ]
  },
  {
   "cell_type": "code",
   "execution_count": 31,
   "id": "4b45cf0c",
   "metadata": {},
   "outputs": [
    {
     "data": {
      "text/html": [
       "<div>\n",
       "<style scoped>\n",
       "    .dataframe tbody tr th:only-of-type {\n",
       "        vertical-align: middle;\n",
       "    }\n",
       "\n",
       "    .dataframe tbody tr th {\n",
       "        vertical-align: top;\n",
       "    }\n",
       "\n",
       "    .dataframe thead th {\n",
       "        text-align: right;\n",
       "    }\n",
       "</style>\n",
       "<table border=\"1\" class=\"dataframe\">\n",
       "  <thead>\n",
       "    <tr style=\"text-align: right;\">\n",
       "      <th></th>\n",
       "      <th>city</th>\n",
       "      <th>post_neutral</th>\n",
       "      <th>post_negative</th>\n",
       "      <th>post_positive</th>\n",
       "      <th>total_posts</th>\n",
       "      <th>comment_positive</th>\n",
       "      <th>comment_neutral</th>\n",
       "      <th>comment_negative</th>\n",
       "      <th>total_comments</th>\n",
       "    </tr>\n",
       "  </thead>\n",
       "  <tbody>\n",
       "    <tr>\n",
       "      <th>0</th>\n",
       "      <td>Berlin</td>\n",
       "      <td>31</td>\n",
       "      <td>15</td>\n",
       "      <td>4</td>\n",
       "      <td>50</td>\n",
       "      <td>293</td>\n",
       "      <td>578</td>\n",
       "      <td>848</td>\n",
       "      <td>1719</td>\n",
       "    </tr>\n",
       "    <tr>\n",
       "      <th>1</th>\n",
       "      <td>Hamburg</td>\n",
       "      <td>32</td>\n",
       "      <td>10</td>\n",
       "      <td>8</td>\n",
       "      <td>50</td>\n",
       "      <td>155</td>\n",
       "      <td>240</td>\n",
       "      <td>261</td>\n",
       "      <td>656</td>\n",
       "    </tr>\n",
       "    <tr>\n",
       "      <th>2</th>\n",
       "      <td>Hannover</td>\n",
       "      <td>36</td>\n",
       "      <td>11</td>\n",
       "      <td>3</td>\n",
       "      <td>50</td>\n",
       "      <td>95</td>\n",
       "      <td>197</td>\n",
       "      <td>124</td>\n",
       "      <td>416</td>\n",
       "    </tr>\n",
       "    <tr>\n",
       "      <th>3</th>\n",
       "      <td>goettingen</td>\n",
       "      <td>23</td>\n",
       "      <td>18</td>\n",
       "      <td>9</td>\n",
       "      <td>50</td>\n",
       "      <td>108</td>\n",
       "      <td>242</td>\n",
       "      <td>162</td>\n",
       "      <td>512</td>\n",
       "    </tr>\n",
       "  </tbody>\n",
       "</table>\n",
       "</div>"
      ],
      "text/plain": [
       "         city  post_neutral  post_negative  post_positive  total_posts  \\\n",
       "0      Berlin            31             15              4           50   \n",
       "1     Hamburg            32             10              8           50   \n",
       "2    Hannover            36             11              3           50   \n",
       "3  goettingen            23             18              9           50   \n",
       "\n",
       "   comment_positive  comment_neutral  comment_negative  total_comments  \n",
       "0               293              578               848            1719  \n",
       "1               155              240               261             656  \n",
       "2                95              197               124             416  \n",
       "3               108              242               162             512  "
      ]
     },
     "execution_count": 31,
     "metadata": {},
     "output_type": "execute_result"
    }
   ],
   "source": [
    "# Aggregate Sentiment Metrics Across Cities\n",
    "# Build DataFrame for posts and comments\n",
    "post_df = pd.DataFrame([\n",
    "    {\"city\": city, **{f\"post_{k}\": v for k, v in metrics_results[city][\"post_counts\"].items()}, \"total_posts\": metrics_results[city][\"total_posts\"]}\n",
    "    for city in metrics_results\n",
    "])\n",
    "comment_df = pd.DataFrame([\n",
    "    {\"city\": city, **{f\"comment_{k}\": v for k, v in metrics_results[city][\"comment_counts\"].items()}, \"total_comments\": metrics_results[city][\"total_comments\"]}\n",
    "    for city in metrics_results\n",
    "])\n",
    "# Merge for easy plotting\n",
    "metrics_df = pd.merge(post_df, comment_df, on=\"city\", how=\"outer\")\n",
    "metrics_df = metrics_df.fillna(0)\n",
    "metrics_df"
   ]
  },
  {
   "cell_type": "code",
   "execution_count": 32,
   "id": "7153a8fa",
   "metadata": {},
   "outputs": [
    {
     "data": {
      "image/png": "[encoded data removed]",
      "text/plain": [
       "<Figure size 800x600 with 1 Axes>"
      ]
     },
     "metadata": {},
     "output_type": "display_data"
    }
   ],
   "source": [
    "# Plot mean positivity, neutrality, and negativity per city\n",
    "mean_sentiments = []\n",
    "for city in metrics_results:\n",
    "    post_counts = metrics_results[city][\"post_counts\"]\n",
    "    total = sum(post_counts.values())\n",
    "    mean_pos = post_counts.get(\"positive\", 0) / total if total else 0\n",
    "    mean_neu = post_counts.get(\"neutral\", 0) / total if total else 0\n",
    "    mean_neg = post_counts.get(\"negative\", 0) / total if total else 0\n",
    "    mean_sentiments.append({\n",
    "        \"city\": city,\n",
    "        \"positive\": mean_pos,\n",
    "        \"neutral\": mean_neu,\n",
    "        \"negative\": mean_neg\n",
    "    })\n",
    "mean_df = pd.DataFrame(mean_sentiments).set_index(\"city\")\n",
    "mean_df.plot(kind=\"bar\", figsize=(8,6))\n",
    "plt.title(\"Mean Sentiment Distribution per City (Posts)\")\n",
    "plt.ylabel(\"Fraction of Posts\")\n",
    "plt.xlabel(\"City\")\n",
    "plt.xticks(rotation=45)\n",
    "plt.legend(title=\"Sentiment\")\n",
    "plt.tight_layout()\n",
    "plt.show()"
   ]
  },
  {
   "cell_type": "markdown",
   "id": "3ce86261",
   "metadata": {},
   "source": [
    "normalize over city reddits. \n",
    "take average c score over comment per city, \n",
    "violin graph for distribution"
   ]
  }
 ],
 "metadata": {
  "kernelspec": {
   "display_name": ".venv",
   "language": "python",
   "name": "python3"
  },
  "language_info": {
   "codemirror_mode": {
    "name": "ipython",
    "version": 3
   },
   "file_extension": ".py",
   "mimetype": "text/x-python",
   "name": "python",
   "nbconvert_exporter": "python",
   "pygments_lexer": "ipython3",
   "version": "3.12.2"
  }
 },
 "nbformat": 4,
 "nbformat_minor": 5
}
