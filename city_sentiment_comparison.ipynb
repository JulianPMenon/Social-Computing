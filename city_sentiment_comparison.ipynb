{
 "cells": [
  {
   "cell_type": "markdown",
   "id": "640b1f83",
   "metadata": {},
   "source": [
    "# City Sentiment Comparison\n",
    "\n",
    "This notebook loads a list of cities, runs the sentiment metrics script for each, aggregates the results, and plots a comparison of sentiment distributions across cities."
   ]
  },
  {
   "cell_type": "code",
   "execution_count": 1,
   "id": "79daf82f",
   "metadata": {},
   "outputs": [],
   "source": [
    "# Import Required Libraries\n",
    "import os\n",
    "import json\n",
    "import subprocess\n",
    "import pandas as pd\n",
    "import matplotlib.pyplot as plt"
   ]
  },
  {
   "cell_type": "code",
   "execution_count": 2,
   "id": "cf822187",
   "metadata": {},
   "outputs": [
    {
     "name": "stdout",
     "output_type": "stream",
     "text": [
      "Requirement already satisfied: pip in ./.venv/lib/python3.12/site-packages (25.2)\n",
      "Requirement already satisfied: torch>=2.0 in ./.venv/lib/python3.12/site-packages (from -r requirements.txt (line 2)) (2.7.1)\n",
      "Requirement already satisfied: torchvision in ./.venv/lib/python3.12/site-packages (from -r requirements.txt (line 3)) (0.22.1)\n",
      "Requirement already satisfied: numpy in ./.venv/lib/python3.12/site-packages (from -r requirements.txt (line 4)) (2.3.2)\n",
      "Requirement already satisfied: gymnasium in ./.venv/lib/python3.12/site-packages (from -r requirements.txt (line 5)) (1.2.0)\n",
      "Requirement already satisfied: transformers in ./.venv/lib/python3.12/site-packages (from -r requirements.txt (line 6)) (4.54.0)\n",
      "Requirement already satisfied: protobuf in ./.venv/lib/python3.12/site-packages (from -r requirements.txt (line 7)) (6.31.1)\n",
      "Requirement already satisfied: beautifulsoup4 in ./.venv/lib/python3.12/site-packages (from -r requirements.txt (line 11)) (4.13.4)\n",
      "Requirement already satisfied: requests in ./.venv/lib/python3.12/site-packages (from -r requirements.txt (line 12)) (2.32.4)\n",
      "Requirement already satisfied: tqdm in ./.venv/lib/python3.12/site-packages (from -r requirements.txt (line 13)) (4.67.1)\n",
      "Requirement already satisfied: lxml in ./.venv/lib/python3.12/site-packages (from -r requirements.txt (line 14)) (6.0.0)\n",
      "Requirement already satisfied: html5lib in ./.venv/lib/python3.12/site-packages (from -r requirements.txt (line 15)) (1.1)\n",
      "Requirement already satisfied: matplotlib in ./.venv/lib/python3.12/site-packages (from -r requirements.txt (line 18)) (3.10.3)\n",
      "Requirement already satisfied: ipython in ./.venv/lib/python3.12/site-packages (from -r requirements.txt (line 19)) (9.4.0)\n",
      "Collecting tiktoken (from -r requirements.txt (line 20))\n",
      "  Using cached tiktoken-0.9.0-cp312-cp312-manylinux_2_17_x86_64.manylinux2014_x86_64.whl.metadata (6.7 kB)\n",
      "\u001b[31mERROR: Could not find a version that satisfies the requirement collections (from versions: none)\u001b[0m\u001b[31m\n",
      "\u001b[0m\u001b[31mERROR: No matching distribution found for collections\u001b[0m\u001b[31m\n",
      "\u001b[0m"
     ]
    }
   ],
   "source": [
    "!python -m pip install --upgrade pip\n",
    "!python -m pip install -r requirements.txt\n"
   ]
  },
  {
   "cell_type": "code",
   "execution_count": 3,
   "id": "7fb095c4",
   "metadata": {},
   "outputs": [
    {
     "name": "stdout",
     "output_type": "stream",
     "text": [
      "Cities to process: ['Hannover', 'goettingen', 'Berlin', 'Hamburg']\n"
     ]
    }
   ],
   "source": [
    "# Load City List from File\n",
    "city_list_file = \"cities.txt\"  # One city name per line\n",
    "with open(city_list_file, \"r\", encoding=\"utf-8\") as f:\n",
    "    cities = [line.strip() for line in f if line.strip()]\n",
    "print(\"Cities to process:\", cities)"
   ]
  },
  {
   "cell_type": "code",
   "execution_count": 4,
   "id": "090014f5",
   "metadata": {},
   "outputs": [
    {
     "name": "stdout",
     "output_type": "stream",
     "text": [
      "Scraped data for Hannover already exists.\n",
      "Running sentiment analysis for Hannover...\n",
      "Looking for: /home/julian/repositories/Social-Computing/Hannover_posts_text.json\n",
      "Scraping posts for goettingen...\n",
      "Running sentiment analysis for goettingen...\n",
      "Looking for: /home/julian/repositories/Social-Computing/goettingen_posts_text.json\n",
      "Scraping posts for Berlin...\n",
      "Running sentiment analysis for Berlin...\n",
      "Looking for: /home/julian/repositories/Social-Computing/Berlin_posts_text.json\n",
      "Scraping posts for Hamburg...\n",
      "Running sentiment analysis for Hamburg...\n",
      "Looking for: /home/julian/repositories/Social-Computing/Hamburg_posts_text.json\n"
     ]
    }
   ],
   "source": [
    "# For each city, if not already done, perform scraping and sentiment analysis using the scripts in example\n",
    "for city in cities:\n",
    "    text_file = f\"{city}_posts_text.json\"\n",
    "    sentiment_file = f\"{city}_posts_sentiment.json\"\n",
    "    # Scrape if not already done\n",
    "    if not os.path.exists(text_file):\n",
    "        print(f\"Scraping posts for {city}...\")\n",
    "        try:\n",
    "            subprocess.run(\n",
    "                [\"python\", \"scrape_it.py\", city],\n",
    "                #input=city.encode(),\n",
    "                check=True,\n",
    "                capture_output=True\n",
    "            )\n",
    "        except subprocess.CalledProcessError as e:\n",
    "            print(f\"Scraping failed for {city}: {e.stderr.decode()}\")\n",
    "            continue\n",
    "    else:\n",
    "        print(f\"Scraped data for {city} already exists.\")\n",
    "    # Sentiment analysis if not already done\n",
    "    if not os.path.exists(sentiment_file):\n",
    "        print(f\"Running sentiment analysis for {city}...\")\n",
    "        print(\"Looking for:\", os.path.abspath(text_file))\n",
    "\n",
    "        if not os.path.exists(text_file) or os.path.getsize(text_file) == 0:\n",
    "            print(f\"Skipping sentiment analysis for {city}: No scraped data.\")\n",
    "            continue\n",
    "        \n",
    "        try:\n",
    "            subprocess.run(\n",
    "                [\"python\", \"sentiment_analysis.py\", city],\n",
    "                check=True,\n",
    "                capture_output=True\n",
    "            )\n",
    "        except subprocess.CalledProcessError as e:\n",
    "            print(f\"Sentiment analysis failed for {city}: {e.stderr.decode()}\")\n",
    "            continue\n",
    "    else:\n",
    "        print(f\"Sentiment analysis for {city} already exists.\")"
   ]
  },
  {
   "cell_type": "code",
   "execution_count": 5,
   "id": "5a1498b0",
   "metadata": {},
   "outputs": [
    {
     "name": "stdout",
     "output_type": "stream",
     "text": [
      "Processing Hannover...\n",
      "Processing goettingen...\n",
      "Processing Berlin...\n",
      "Processing Hamburg...\n",
      "Done.\n"
     ]
    }
   ],
   "source": [
    "# Run Sentiment Metrics Script for Each City\n",
    "metrics_results = {}\n",
    "for city in cities:\n",
    "    print(f\"Processing {city}...\")\n",
    "    # Set environment variable for city (if needed by script)\n",
    "    env = os.environ.copy()\n",
    "    env[\"CITY_SUBREDDIT\"] = city\n",
    "    # Run the metrics script (assumes it reads CITY_SUBREDDIT or you can edit the script to do so)\n",
    "    metrics_file = f\"{city}_posts_sentiment.json\"\n",
    "    if not os.path.exists(metrics_file):\n",
    "        print(f\"Warning: Sentiment file for {city} not found, skipping.\")\n",
    "        continue\n",
    "    # Load metrics from file (simulate script output)\n",
    "    with open(metrics_file, \"r\", encoding=\"utf-8\") as f:\n",
    "        posts = json.load(f)\n",
    "    post_sentiments = [post.get(\"post_sentiment\", \"neutral\") for post in posts]\n",
    "    comment_sentiments = []\n",
    "    for post in posts:\n",
    "        for c in post.get(\"comments\", []):\n",
    "            comment_sentiments.append(c.get(\"sentiment\", \"neutral\"))\n",
    "    from collections import Counter\n",
    "    post_counts = Counter(post_sentiments)\n",
    "    comment_counts = Counter(comment_sentiments)\n",
    "    metrics_results[city] = {\n",
    "        \"post_counts\": post_counts,\n",
    "        \"comment_counts\": comment_counts,\n",
    "        \"total_posts\": len(posts),\n",
    "        \"total_comments\": len(comment_sentiments)\n",
    "    }\n",
    "print(\"Done.\")"
   ]
  },
  {
   "cell_type": "code",
   "execution_count": 6,
   "id": "4b45cf0c",
   "metadata": {},
   "outputs": [
    {
     "data": {
      "text/html": [
       "<div>\n",
       "<style scoped>\n",
       "    .dataframe tbody tr th:only-of-type {\n",
       "        vertical-align: middle;\n",
       "    }\n",
       "\n",
       "    .dataframe tbody tr th {\n",
       "        vertical-align: top;\n",
       "    }\n",
       "\n",
       "    .dataframe thead th {\n",
       "        text-align: right;\n",
       "    }\n",
       "</style>\n",
       "<table border=\"1\" class=\"dataframe\">\n",
       "  <thead>\n",
       "    <tr style=\"text-align: right;\">\n",
       "      <th></th>\n",
       "      <th>city</th>\n",
       "      <th>post_negative</th>\n",
       "      <th>post_neutral</th>\n",
       "      <th>post_positive</th>\n",
       "      <th>total_posts</th>\n",
       "      <th>comment_negative</th>\n",
       "      <th>comment_neutral</th>\n",
       "      <th>comment_positive</th>\n",
       "      <th>total_comments</th>\n",
       "    </tr>\n",
       "  </thead>\n",
       "  <tbody>\n",
       "    <tr>\n",
       "      <th>0</th>\n",
       "      <td>Berlin</td>\n",
       "      <td>108</td>\n",
       "      <td>363</td>\n",
       "      <td>29</td>\n",
       "      <td>500</td>\n",
       "      <td>24237</td>\n",
       "      <td>15673</td>\n",
       "      <td>8197</td>\n",
       "      <td>48107</td>\n",
       "    </tr>\n",
       "    <tr>\n",
       "      <th>1</th>\n",
       "      <td>Hamburg</td>\n",
       "      <td>97</td>\n",
       "      <td>361</td>\n",
       "      <td>42</td>\n",
       "      <td>500</td>\n",
       "      <td>13111</td>\n",
       "      <td>9927</td>\n",
       "      <td>5037</td>\n",
       "      <td>28075</td>\n",
       "    </tr>\n",
       "    <tr>\n",
       "      <th>2</th>\n",
       "      <td>Hannover</td>\n",
       "      <td>234</td>\n",
       "      <td>669</td>\n",
       "      <td>97</td>\n",
       "      <td>1000</td>\n",
       "      <td>8109</td>\n",
       "      <td>9615</td>\n",
       "      <td>5680</td>\n",
       "      <td>23404</td>\n",
       "    </tr>\n",
       "    <tr>\n",
       "      <th>3</th>\n",
       "      <td>goettingen</td>\n",
       "      <td>99</td>\n",
       "      <td>338</td>\n",
       "      <td>63</td>\n",
       "      <td>500</td>\n",
       "      <td>1179</td>\n",
       "      <td>1754</td>\n",
       "      <td>1055</td>\n",
       "      <td>3988</td>\n",
       "    </tr>\n",
       "  </tbody>\n",
       "</table>\n",
       "</div>"
      ],
      "text/plain": [
       "         city  post_negative  post_neutral  post_positive  total_posts  \\\n",
       "0      Berlin            108           363             29          500   \n",
       "1     Hamburg             97           361             42          500   \n",
       "2    Hannover            234           669             97         1000   \n",
       "3  goettingen             99           338             63          500   \n",
       "\n",
       "   comment_negative  comment_neutral  comment_positive  total_comments  \n",
       "0             24237            15673              8197           48107  \n",
       "1             13111             9927              5037           28075  \n",
       "2              8109             9615              5680           23404  \n",
       "3              1179             1754              1055            3988  "
      ]
     },
     "execution_count": 6,
     "metadata": {},
     "output_type": "execute_result"
    }
   ],
   "source": [
    "# Aggregate Sentiment Metrics Across Cities\n",
    "# Build DataFrame for posts and comments\n",
    "post_df = pd.DataFrame([\n",
    "    {\"city\": city, **{f\"post_{k}\": v for k, v in metrics_results[city][\"post_counts\"].items()}, \"total_posts\": metrics_results[city][\"total_posts\"]}\n",
    "    for city in metrics_results\n",
    "])\n",
    "comment_df = pd.DataFrame([\n",
    "    {\"city\": city, **{f\"comment_{k}\": v for k, v in metrics_results[city][\"comment_counts\"].items()}, \"total_comments\": metrics_results[city][\"total_comments\"]}\n",
    "    for city in metrics_results\n",
    "])\n",
    "# Merge for easy plotting\n",
    "metrics_df = pd.merge(post_df, comment_df, on=\"city\", how=\"outer\")\n",
    "metrics_df = metrics_df.fillna(0)\n",
    "metrics_df"
   ]
  },
  {
   "cell_type": "code",
   "execution_count": 7,
   "id": "7153a8fa",
   "metadata": {},
   "outputs": [
    {
     "data": {
      "image/png": "[encoded data removed]",
      "text/plain": [
       "<Figure size 800x600 with 1 Axes>"
      ]
     },
     "metadata": {},
     "output_type": "display_data"
    }
   ],
   "source": [
    "# Plot mean positivity, neutrality, and negativity per city\n",
    "mean_sentiments = []\n",
    "for city in metrics_results:\n",
    "    post_counts = metrics_results[city][\"post_counts\"]\n",
    "    total = sum(post_counts.values())\n",
    "    mean_pos = post_counts.get(\"positive\", 0) / total if total else 0\n",
    "    mean_neu = post_counts.get(\"neutral\", 0) / total if total else 0\n",
    "    mean_neg = post_counts.get(\"negative\", 0) / total if total else 0\n",
    "    mean_sentiments.append({\n",
    "        \"city\": city,\n",
    "        \"positive\": mean_pos,\n",
    "        \"neutral\": mean_neu,\n",
    "        \"negative\": mean_neg\n",
    "    })\n",
    "mean_df = pd.DataFrame(mean_sentiments).set_index(\"city\")\n",
    "mean_df.plot(kind=\"bar\", figsize=(8,6))\n",
    "plt.title(\"Mean Sentiment Distribution per City (Posts)\")\n",
    "plt.ylabel(\"Fraction of Posts\")\n",
    "plt.xlabel(\"City\")\n",
    "plt.xticks(rotation=45)\n",
    "plt.legend(title=\"Sentiment\")\n",
    "plt.tight_layout()\n",
    "plt.show()"
   ]
  },
  {
   "cell_type": "markdown",
   "id": "3ce86261",
   "metadata": {},
   "source": [
    "## TODO\n",
    "\n",
    "normalize over city reddits. \n",
    "take average c score over comment per city, \n",
    "violin graph for distribution"
   ]
  }
 ],
 "metadata": {
  "kernelspec": {
   "display_name": ".venv",
   "language": "python",
   "name": "python3"
  },
  "language_info": {
   "codemirror_mode": {
    "name": "ipython",
    "version": 3
   },
   "file_extension": ".py",
   "mimetype": "text/x-python",
   "name": "python",
   "nbconvert_exporter": "python",
   "pygments_lexer": "ipython3",
   "version": "3.12.3"
  }
 },
 "nbformat": 4,
 "nbformat_minor": 5
}
